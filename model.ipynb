{
 "cells": [
  {
   "cell_type": "markdown",
   "metadata": {},
   "source": [
    "DIGIT RECOGINITION"
   ]
  },
  {
   "cell_type": "code",
   "execution_count": 9,
   "metadata": {},
   "outputs": [],
   "source": [
    "import numpy as np\n",
    "import matplotlib.pyplot as plt\n",
    "from PIL import Image, ImageOps, ImageDraw\n",
    "import tensorflow as tf\n",
    "from tensorflow.keras import layers, models, regularizers\n",
    "from tensorflow.keras.datasets import mnist\n",
    "from tensorflow.keras.utils import to_categorical\n",
    "import tkinter as tk"
   ]
  },
  {
   "cell_type": "code",
   "execution_count": 10,
   "metadata": {},
   "outputs": [],
   "source": [
    "# Load and preprocess the MNIST dataset\n",
    "(train_images, train_labels), (test_images, test_labels) = mnist.load_data()\n",
    "\n",
    "train_images = train_images.reshape((60000, 28 * 28)).astype('float32') / 255\n",
    "test_images = test_images.reshape((10000, 28 * 28)).astype('float32') / 255\n",
    "\n",
    "train_labels = to_categorical(train_labels)\n",
    "test_labels = to_categorical(test_labels)"
   ]
  },
  {
   "cell_type": "code",
   "execution_count": 11,
   "metadata": {},
   "outputs": [
    {
     "name": "stdout",
     "output_type": "stream",
     "text": [
      "Epoch 1/20\n",
      "\u001b[1m1200/1200\u001b[0m \u001b[32m━━━━━━━━━━━━━━━━━━━━\u001b[0m\u001b[37m\u001b[0m \u001b[1m6s\u001b[0m 3ms/step - accuracy: 0.6096 - loss: 1.2266 - val_accuracy: 0.9223 - val_loss: 0.3525\n",
      "Epoch 2/20\n",
      "\u001b[1m1200/1200\u001b[0m \u001b[32m━━━━━━━━━━━━━━━━━━━━\u001b[0m\u001b[37m\u001b[0m \u001b[1m3s\u001b[0m 3ms/step - accuracy: 0.8620 - loss: 0.5604 - val_accuracy: 0.9412 - val_loss: 0.2819\n",
      "Epoch 3/20\n",
      "\u001b[1m1200/1200\u001b[0m \u001b[32m━━━━━━━━━━━━━━━━━━━━\u001b[0m\u001b[37m\u001b[0m \u001b[1m3s\u001b[0m 2ms/step - accuracy: 0.8912 - loss: 0.4593 - val_accuracy: 0.9479 - val_loss: 0.2587\n",
      "Epoch 4/20\n",
      "\u001b[1m1200/1200\u001b[0m \u001b[32m━━━━━━━━━━━━━━━━━━━━\u001b[0m\u001b[37m\u001b[0m \u001b[1m3s\u001b[0m 2ms/step - accuracy: 0.9019 - loss: 0.4101 - val_accuracy: 0.9503 - val_loss: 0.2419\n",
      "Epoch 5/20\n",
      "\u001b[1m1200/1200\u001b[0m \u001b[32m━━━━━━━━━━━━━━━━━━━━\u001b[0m\u001b[37m\u001b[0m \u001b[1m3s\u001b[0m 2ms/step - accuracy: 0.9099 - loss: 0.3856 - val_accuracy: 0.9502 - val_loss: 0.2345\n",
      "Epoch 6/20\n",
      "\u001b[1m1200/1200\u001b[0m \u001b[32m━━━━━━━━━━━━━━━━━━━━\u001b[0m\u001b[37m\u001b[0m \u001b[1m3s\u001b[0m 2ms/step - accuracy: 0.9134 - loss: 0.3635 - val_accuracy: 0.9492 - val_loss: 0.2436\n",
      "Epoch 7/20\n",
      "\u001b[1m1200/1200\u001b[0m \u001b[32m━━━━━━━━━━━━━━━━━━━━\u001b[0m\u001b[37m\u001b[0m \u001b[1m3s\u001b[0m 2ms/step - accuracy: 0.9231 - loss: 0.3360 - val_accuracy: 0.9552 - val_loss: 0.2219\n",
      "Epoch 8/20\n",
      "\u001b[1m1200/1200\u001b[0m \u001b[32m━━━━━━━━━━━━━━━━━━━━\u001b[0m\u001b[37m\u001b[0m \u001b[1m3s\u001b[0m 2ms/step - accuracy: 0.9226 - loss: 0.3341 - val_accuracy: 0.9569 - val_loss: 0.2176\n",
      "Epoch 9/20\n",
      "\u001b[1m1200/1200\u001b[0m \u001b[32m━━━━━━━━━━━━━━━━━━━━\u001b[0m\u001b[37m\u001b[0m \u001b[1m3s\u001b[0m 2ms/step - accuracy: 0.9283 - loss: 0.3167 - val_accuracy: 0.9579 - val_loss: 0.2150\n",
      "Epoch 10/20\n",
      "\u001b[1m1200/1200\u001b[0m \u001b[32m━━━━━━━━━━━━━━━━━━━━\u001b[0m\u001b[37m\u001b[0m \u001b[1m3s\u001b[0m 2ms/step - accuracy: 0.9315 - loss: 0.3080 - val_accuracy: 0.9538 - val_loss: 0.2289\n",
      "Epoch 11/20\n",
      "\u001b[1m1200/1200\u001b[0m \u001b[32m━━━━━━━━━━━━━━━━━━━━\u001b[0m\u001b[37m\u001b[0m \u001b[1m3s\u001b[0m 2ms/step - accuracy: 0.9299 - loss: 0.3115 - val_accuracy: 0.9574 - val_loss: 0.2171\n",
      "Epoch 12/20\n",
      "\u001b[1m1200/1200\u001b[0m \u001b[32m━━━━━━━━━━━━━━━━━━━━\u001b[0m\u001b[37m\u001b[0m \u001b[1m3s\u001b[0m 2ms/step - accuracy: 0.9318 - loss: 0.2989 - val_accuracy: 0.9569 - val_loss: 0.2175\n"
     ]
    },
    {
     "data": {
      "text/plain": [
       "<keras.src.callbacks.history.History at 0x217abccd190>"
      ]
     },
     "execution_count": 11,
     "metadata": {},
     "output_type": "execute_result"
    }
   ],
   "source": [
    "# Define the model\n",
    "model = models.Sequential([\n",
    "    layers.Dense(\n",
    "        32, \n",
    "        activation='relu', \n",
    "        input_shape=(28 * 28,), \n",
    "        kernel_regularizer=regularizers.l2(0.002)),\n",
    "    layers.Dense(\n",
    "        32, \n",
    "        activation='relu'),\n",
    "    layers.Dropout(0.5),\n",
    "    layers.Dense(\n",
    "        10, \n",
    "        activation='softmax')\n",
    "])\n",
    "\n",
    "model.compile(\n",
    "    loss='categorical_crossentropy', \n",
    "    optimizer='adam', \n",
    "    metrics=['accuracy'])\n",
    "\n",
    "# Train the model\n",
    "early_stopping = tf.keras.callbacks.EarlyStopping(monitor='val_loss', patience=3, restore_best_weights=True)\n",
    "\n",
    "model.fit(train_images, train_labels, epochs=20, batch_size=40, validation_split=0.2, callbacks=[early_stopping])"
   ]
  },
  {
   "cell_type": "code",
   "execution_count": 12,
   "metadata": {},
   "outputs": [
    {
     "name": "stderr",
     "output_type": "stream",
     "text": [
      "WARNING:absl:You are saving your model as an HDF5 file via `model.save()` or `keras.saving.save_model(model)`. This file format is considered legacy. We recommend using instead the native Keras format, e.g. `model.save('my_model.keras')` or `keras.saving.save_model(model, 'my_model.keras')`. \n"
     ]
    },
    {
     "name": "stdout",
     "output_type": "stream",
     "text": [
      "Model saved successfully.\n",
      "\u001b[1m313/313\u001b[0m \u001b[32m━━━━━━━━━━━━━━━━━━━━\u001b[0m\u001b[37m\u001b[0m \u001b[1m1s\u001b[0m 2ms/step - accuracy: 0.9526 - loss: 0.2333\n",
      "Test accuracy: 0.9584\n"
     ]
    }
   ],
   "source": [
    "# Save the model after training\n",
    "model.save(\"model_with_optimizer.h5\")\n",
    "print(\"Model saved successfully.\")\n",
    "\n",
    "# Evaluate the model\n",
    "test_loss, test_acc = model.evaluate(test_images, test_labels)\n",
    "print(f'Test accuracy: {test_acc:.4f}')"
   ]
  },
  {
   "cell_type": "code",
   "execution_count": 13,
   "metadata": {},
   "outputs": [],
   "source": [
    "import tkinter as tk  # Import tkinter with alias tk\n",
    "from PIL import Image, ImageOps, ImageDraw\n",
    "import numpy as np\n",
    "import tensorflow as tf  # Import TensorFlow"
   ]
  },
  {
   "cell_type": "code",
   "execution_count": 14,
   "metadata": {},
   "outputs": [
    {
     "name": "stderr",
     "output_type": "stream",
     "text": [
      "WARNING:absl:Compiled the loaded model, but the compiled metrics have yet to be built. `model.compile_metrics` will be empty until you train or evaluate the model.\n"
     ]
    }
   ],
   "source": [
    "\n",
    "# Load the saved model\n",
    "model = tf.keras.models.load_model(\"D:\\\\Internship\\\\Zidio Internship\\\\Digit Recoginition\\\\model_with_optimizer.h5\")"
   ]
  },
  {
   "cell_type": "code",
   "execution_count": 15,
   "metadata": {},
   "outputs": [],
   "source": [
    "# Define preprocessing and prediction functions\n",
    "def preprocess_image(image):\n",
    "    image = image.resize((28, 28))  # Resize to 28x28 pixels\n",
    "    image = image.convert('L')  # Convert to grayscale\n",
    "    image = ImageOps.invert(image)  # Invert colors (white background, black digit)\n",
    "    image = np.array(image).astype('float32') / 255  # Normalize pixel values\n",
    "    image = image.reshape(1, 28 * 28)  # Flatten the image to match the model input\n",
    "    return image\n",
    "\n",
    "def predict_digit(image):\n",
    "    processed_img = preprocess_image(image)\n",
    "    prediction = model.predict(processed_img)\n",
    "    return np.argmax(prediction)"
   ]
  },
  {
   "cell_type": "code",
   "execution_count": 16,
   "metadata": {},
   "outputs": [
    {
     "name": "stdout",
     "output_type": "stream",
     "text": [
      "\u001b[1m1/1\u001b[0m \u001b[32m━━━━━━━━━━━━━━━━━━━━\u001b[0m\u001b[37m\u001b[0m \u001b[1m0s\u001b[0m 95ms/step\n",
      "Predicted Digit: 2\n",
      "\u001b[1m1/1\u001b[0m \u001b[32m━━━━━━━━━━━━━━━━━━━━\u001b[0m\u001b[37m\u001b[0m \u001b[1m0s\u001b[0m 46ms/step\n",
      "Predicted Digit: 5\n",
      "\u001b[1m1/1\u001b[0m \u001b[32m━━━━━━━━━━━━━━━━━━━━\u001b[0m\u001b[37m\u001b[0m \u001b[1m0s\u001b[0m 38ms/step\n",
      "Predicted Digit: 2\n",
      "\u001b[1m1/1\u001b[0m \u001b[32m━━━━━━━━━━━━━━━━━━━━\u001b[0m\u001b[37m\u001b[0m \u001b[1m0s\u001b[0m 40ms/step\n",
      "Predicted Digit: 1\n",
      "\u001b[1m1/1\u001b[0m \u001b[32m━━━━━━━━━━━━━━━━━━━━\u001b[0m\u001b[37m\u001b[0m \u001b[1m0s\u001b[0m 47ms/step\n",
      "Predicted Digit: 7\n",
      "\u001b[1m1/1\u001b[0m \u001b[32m━━━━━━━━━━━━━━━━━━━━\u001b[0m\u001b[37m\u001b[0m \u001b[1m0s\u001b[0m 46ms/step\n",
      "Predicted Digit: 4\n",
      "\u001b[1m1/1\u001b[0m \u001b[32m━━━━━━━━━━━━━━━━━━━━\u001b[0m\u001b[37m\u001b[0m \u001b[1m0s\u001b[0m 38ms/step\n",
      "Predicted Digit: 8\n"
     ]
    }
   ],
   "source": [
    "# Tkinter GUI Application\n",
    "class DrawAndPredictApp:\n",
    "    def __init__(self, master):\n",
    "        self.master = master\n",
    "        self.master.title(\"Draw a Digit\")\n",
    "\n",
    "        # Canvas for drawing\n",
    "        self.canvas = tk.Canvas(master, width=200, height=200, bg=\"white\")\n",
    "        self.canvas.pack()\n",
    "\n",
    "        # Buttons for prediction and clearing\n",
    "        self.button_predict = tk.Button(master, text=\"Predict\", command=self.make_prediction)\n",
    "        self.button_predict.pack()\n",
    "\n",
    "        self.button_clear = tk.Button(master, text=\"Clear\", command=self.clear_canvas)\n",
    "        self.button_clear.pack()\n",
    "\n",
    "        # Bind mouse movement to paint function\n",
    "        self.canvas.bind(\"<B1-Motion>\", self.paint)\n",
    "\n",
    "        # Create a blank image to draw on\n",
    "        self.image = Image.new(\"L\", (200, 200), 255)  # 200x200 white canvas\n",
    "        self.draw = ImageDraw.Draw(self.image)\n",
    "\n",
    "    def paint(self, event):\n",
    "        # Draw a small circle at the mouse position\n",
    "        x, y = event.x, event.y\n",
    "        self.canvas.create_oval(x-5, y-5, x+5, y+5, fill=\"black\", outline=\"black\")\n",
    "        self.draw.ellipse((x-5, y-5, x+5, y+5), fill=\"black\", outline=\"black\")\n",
    "\n",
    "    def clear_canvas(self):\n",
    "        # Clear the canvas and reset the image\n",
    "        self.canvas.delete(\"all\")\n",
    "        self.image = Image.new(\"L\", (200, 200), 255)\n",
    "        self.draw = ImageDraw.Draw(self.image)\n",
    "\n",
    "    def make_prediction(self):\n",
    "        # Predict the digit and print it\n",
    "        predicted_digit = predict_digit(self.image)\n",
    "        print(f'Predicted Digit: {predicted_digit}')\n",
    "\n",
    "\n",
    "# Main execution\n",
    "if __name__ == \"__main__\":\n",
    "    root = tk.Tk()\n",
    "    app = DrawAndPredictApp(root)\n",
    "    root.mainloop()\n"
   ]
  }
 ],
 "metadata": {
  "kernelspec": {
   "display_name": "zidio",
   "language": "python",
   "name": "python3"
  },
  "language_info": {
   "codemirror_mode": {
    "name": "ipython",
    "version": 3
   },
   "file_extension": ".py",
   "mimetype": "text/x-python",
   "name": "python",
   "nbconvert_exporter": "python",
   "pygments_lexer": "ipython3",
   "version": "3.12.0"
  }
 },
 "nbformat": 4,
 "nbformat_minor": 2
}
